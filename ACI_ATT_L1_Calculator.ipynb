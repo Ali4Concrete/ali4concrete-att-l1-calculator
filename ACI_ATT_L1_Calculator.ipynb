{
 "cells": [
  {
   "cell_type": "markdown",
   "id": "cf33b3f6-5514-423c-a822-7cbb8501b9fb",
   "metadata": {},
   "source": [
    "# 🧱 Ali4Concrete – ACI ATT L1 Aggregate Testing Calculator  \n",
    "\n",
    "**Brand:** Ali4Concrete | **Engineer:** Ali Abdulameer Mohammed  \n",
    "**Scope:** ASTM / AASHTO Aggregate Testing (D75, C702, C117, C136, C127, C128, C566, C40)  \n",
    "\n",
    "📧 **Email:** [ali4.concrete.ai@gmail.com](mailto:ali4.concrete.ai@gmail.com)  \n",
    "📞 **WhatsApp:** [+964 771 601 6272](https://wa.me/9647716016272)  \n",
    "🔗 **YouTube:** [youtube.com/@Ali4Concrete](https://www.youtube.com/@Ali4Concrete)  \n",
    "🔗 **LinkedIn:** [linkedin.com/in/ali4concrete](https://www.linkedin.com/in/ali4concrete/)  \n",
    "🔗 **Facebook:** [facebook.com/Ali4Concrete.Official](https://www.facebook.com/Ali4Concrete.Official)  \n",
    "\n",
    "---\n",
    "\n",
    "*منصة علي فور كونكريت – دليل فحوصات ركام الخرسانة وفق ASTM / AASHTO*  \n",
    "🔹 تدريب | 🔹 فحوصات | 🔹 توحيد إجراءات | 🔹 تطوير فني ومهني  \n",
    "\n",
    "📺 تابع منصاتنا للتدريب والفحوصات الفنية:  \n",
    "➡️ [يوتيوب علي فور كونكريت](https://www.youtube.com/@Ali4Concrete)  \n",
    "➡️ [لينكدإن علي فور كونكريت](https://www.linkedin.com/in/ali4concrete/)  \n",
    "➡️ [فيسبوك علي فور كونكريت](https://www.facebook.com/Ali4Concrete.Official)  \n",
    "📩 للتواصل المهني: [ali4.concrete.ai@gmail.com](mailto:ali4.concrete.ai@gmail.com) | واتساب: [+964 771 601 6272](https://wa.me/9647716016272)  \n",
    "\n",
    "---\n",
    "\n",
    "© 2025 **Ali4Concrete** – All Rights Reserved  \n",
    "*Developing the Future of Concrete Testing, Training, and Standards*\n"
   ]
  },
  {
   "cell_type": "markdown",
   "id": "ddb26b1f",
   "metadata": {},
   "source": [
    "\n",
    "# ACI Aggregate Testing Technician – Level 1 – Calculator (Ali4Concrete)\n",
    "**Standards:** AASHTO/ASTM pairs — T2/D75, T248/C702, T11/C117, T27/C136, T85/C127, T84/C128, T255/C566, T21/C40  \n",
    "**Units:** SI (kg, g, mm, °C)  \n",
    "**Author:** Ali4Concrete — *Training & Testing*\n",
    "\n",
    "### How to use (zero‑Python)\n",
    "1. Use the section **📥 Input — (Edit here)** under each test.\n",
    "2. Change only the numbers (units shown). Do not change code lines.\n",
    "3. Press **Shift+Enter** to run the cell. Then run the **▶ Calculate** cell.\n",
    "\n",
    "---\n",
    "**Index**\n",
    "- [Common Setup](#common-setup)\n",
    "- [T2/D75 — Sampling (no calculations)](#d75)\n",
    "- [T248/C702 — Sample Reduction](#c702)\n",
    "- [T11/C117 — % Finer (75 μm)](#c117)\n",
    "- [T27/C136 — Sieve Analysis + FM](#c136)\n",
    "- [T85/C127 — SG & Absorption (Coarse)](#c127)\n",
    "- [T84/C128 — SG & Absorption (Fine)](#c128)\n",
    "- [T255/C566 — Moisture (Drying)](#c566)\n",
    "- [T21/C40 — Organic Impurities (qualitative)](#c40)\n",
    "- [Exports](#exports)\n"
   ]
  },
  {
   "cell_type": "markdown",
   "id": "3aa6cff9",
   "metadata": {},
   "source": [
    "## Common Setup<a id='common-setup'></a>"
   ]
  },
  {
   "cell_type": "code",
   "execution_count": 15,
   "id": "d2e0eef4",
   "metadata": {},
   "outputs": [
    {
     "name": "stdout",
     "output_type": "stream",
     "text": [
      "Ready. Widgets available? True\n"
     ]
    }
   ],
   "source": [
    "\n",
    "# Do this once after opening the notebook\n",
    "import math\n",
    "import numpy as np\n",
    "import pandas as pd\n",
    "import matplotlib.pyplot as plt\n",
    "\n",
    "# Optional widgets (safe if not installed)\n",
    "try:\n",
    "    import ipywidgets as widgets\n",
    "    from IPython.display import display, HTML, clear_output\n",
    "    WIDGETS_OK = True\n",
    "except Exception:\n",
    "    WIDGETS_OK = False\n",
    "\n",
    "pd.set_option(\"display.float_format\", lambda v: f\"{v:,.3f}\")\n",
    "print(\"Ready. Widgets available?\" , WIDGETS_OK)\n"
   ]
  },
  {
   "cell_type": "markdown",
   "id": "55e04f06",
   "metadata": {},
   "source": [
    "### Utilities"
   ]
  },
  {
   "cell_type": "code",
   "execution_count": 16,
   "id": "e055f730",
   "metadata": {},
   "outputs": [],
   "source": [
    "\n",
    "WATER_DENSITY_20C = 998.2  # kg/m3 at ~20 °C\n",
    "\n",
    "def pct(x): \n",
    "    return 100.0 * x\n",
    "\n",
    "def safe_div(a, b):\n",
    "    a = float(a); b = float(b)\n",
    "    return a / b if b != 0 else float(\"nan\")\n",
    "\n",
    "def round_to(x, n=3):\n",
    "    try:\n",
    "        return float(np.round(x, n))\n",
    "    except Exception:\n",
    "        return x\n",
    "\n",
    "def check_sum_100(series, tol=0.3):\n",
    "    s = float(series.sum())\n",
    "    return s, abs(s - 100.0) <= tol\n",
    "\n",
    "def banner(msg):\n",
    "    print(\"=\"*8, msg, \"=\"*8)\n"
   ]
  },
  {
   "cell_type": "markdown",
   "id": "ebe5e14e",
   "metadata": {},
   "source": [
    "\n",
    "## T2/D75 — Sampling of Aggregates<a id='d75'></a>\n",
    "- **No** numeric results. Record **where**, **how**, **how many increments**, and **mass** of field sample.  \n",
    "- Use this section to store sampling metadata for your report.\n"
   ]
  },
  {
   "cell_type": "code",
   "execution_count": 17,
   "id": "8c4f06a7",
   "metadata": {},
   "outputs": [
    {
     "name": "stdout",
     "output_type": "stream",
     "text": [
      "======== D75 Sampling Summary ========\n",
      "Project: Proj‑001\n",
      "Source: Pit A, conveyor head\n",
      "Date: 2025-10-16\n",
      "Material: Coarse / Fine / Combined\n",
      "Increments (n): 5\n",
      "Field mass (kg): 60.0\n",
      "Notes: Randomized per D3665; increments after discharge; PPE used.\n"
     ]
    }
   ],
   "source": [
    "\n",
    "# 📥 Input — (Edit here)\n",
    "project_id      = \"Proj‑001\"\n",
    "source_desc     = \"Pit A, conveyor head\"\n",
    "date_sampled    = \"2025-10-16\"\n",
    "material_type   = \"Coarse / Fine / Combined\"\n",
    "increments_n    = 5\n",
    "field_mass_kg   = 60.0\n",
    "notes_sampling  = \"Randomized per D3665; increments after discharge; PPE used.\"\n",
    "\n",
    "# ▶ Record (prints a simple summary)\n",
    "banner(\"D75 Sampling Summary\")\n",
    "print(\"Project:\", project_id)\n",
    "print(\"Source:\", source_desc)\n",
    "print(\"Date:\", date_sampled)\n",
    "print(\"Material:\", material_type)\n",
    "print(\"Increments (n):\", increments_n)\n",
    "print(\"Field mass (kg):\", field_mass_kg)\n",
    "print(\"Notes:\", notes_sampling)\n"
   ]
  },
  {
   "cell_type": "markdown",
   "id": "e1df4d99",
   "metadata": {},
   "source": [
    "\n",
    "## T248/C702 — Reducing Samples to Testing Size<a id='c702'></a>\n",
    "- Plan halving/splitting until reaching test mass.\n",
    "- **Formulas:** test_mass ≈ field_mass / 2ⁿ ; reduction ratio = test_mass / field_mass.\n"
   ]
  },
  {
   "cell_type": "code",
   "execution_count": 18,
   "id": "a53eed96",
   "metadata": {},
   "outputs": [
    {
     "name": "stdout",
     "output_type": "stream",
     "text": [
      "======== C702 Plan ========\n",
      "{'splits_needed': 4, 'approx_final_mass_kg': 3.75, 'reduction_ratio': 0.062, 'path_kg': [60.0, 30.0, 15.0, 7.5, 3.75]}\n"
     ]
    }
   ],
   "source": [
    "\n",
    "# 📥 Input — (Edit here)\n",
    "field_mass_kg   = 60.0\n",
    "target_mass_kg  = 5.0\n",
    "\n",
    "# ▶ Calculate\n",
    "def c702_splits(field_mass, target_mass):\n",
    "    if target_mass <= 0 or field_mass <= 0:\n",
    "        return None\n",
    "    n = 0; mass = field_mass\n",
    "    path = [mass]\n",
    "    while mass > target_mass:\n",
    "        mass = mass / 2.0\n",
    "        n += 1\n",
    "        path.append(round_to(mass,3))\n",
    "    return {\n",
    "        \"splits_needed\": n, \n",
    "        \"approx_final_mass_kg\": round_to(mass, 3),\n",
    "        \"reduction_ratio\": round_to(mass/field_mass, 3),\n",
    "        \"path_kg\": path\n",
    "    }\n",
    "\n",
    "res_c702 = c702_splits(field_mass_kg, target_mass_kg)\n",
    "banner(\"C702 Plan\")\n",
    "print(res_c702)\n"
   ]
  },
  {
   "cell_type": "markdown",
   "id": "614aa7d9",
   "metadata": {},
   "source": [
    "\n",
    "## T11/C117 — Materials Finer than 75 μm by Washing<a id='c117'></a>\n",
    "**% finer** = ((m_before_dry − m_after_wash_dry) / m_before_dry) × 100\n"
   ]
  },
  {
   "cell_type": "code",
   "execution_count": 19,
   "id": "fdb4bf97",
   "metadata": {},
   "outputs": [
    {
     "name": "stdout",
     "output_type": "stream",
     "text": [
      "======== C117 Result ========\n",
      "% Finer (<75 μm): 1.6\n"
     ]
    }
   ],
   "source": [
    "\n",
    "# 📥 Input — (Edit here)\n",
    "m_before_dry_kg      = 0.500\n",
    "m_after_wash_dry_kg  = 0.492\n",
    "\n",
    "# ▶ Calculate\n",
    "pct_finer = round_to( ( (m_before_dry_kg - m_after_wash_dry_kg) / m_before_dry_kg ) * 100.0 , 2)\n",
    "banner(\"C117 Result\")\n",
    "print(\"% Finer (<75 μm):\", pct_finer)\n"
   ]
  },
  {
   "cell_type": "markdown",
   "id": "a6140b7a",
   "metadata": {},
   "source": [
    "\n",
    "## T27/C136 — Sieve Analysis of Fine and Coarse Aggregates<a id='c136'></a>\n",
    "**Steps**\n",
    "1) Enter sizes and mass retained (g).  \n",
    "2) Run calculation to get %retained, cumulative, %passing; 100±0.3 check.  \n",
    "3) Optional: Fineness Modulus (fine aggregate only).\n"
   ]
  },
  {
   "cell_type": "code",
   "execution_count": 20,
   "id": "bca2e345",
   "metadata": {},
   "outputs": [
    {
     "name": "stdout",
     "output_type": "stream",
     "text": [
      "======== C136 Table ========\n",
      "Total mass = 499.0 g  |  Sum % retained = 100.00  |  within ±0.3? True\n"
     ]
    },
    {
     "data": {
      "text/html": [
       "<div>\n",
       "<style scoped>\n",
       "    .dataframe tbody tr th:only-of-type {\n",
       "        vertical-align: middle;\n",
       "    }\n",
       "\n",
       "    .dataframe tbody tr th {\n",
       "        vertical-align: top;\n",
       "    }\n",
       "\n",
       "    .dataframe thead th {\n",
       "        text-align: right;\n",
       "    }\n",
       "</style>\n",
       "<table border=\"1\" class=\"dataframe\">\n",
       "  <thead>\n",
       "    <tr style=\"text-align: right;\">\n",
       "      <th></th>\n",
       "      <th>sieve_mm</th>\n",
       "      <th>mass_retained_g</th>\n",
       "      <th>pct_retained</th>\n",
       "      <th>cum_pct_retained</th>\n",
       "      <th>pct_passing</th>\n",
       "    </tr>\n",
       "  </thead>\n",
       "  <tbody>\n",
       "    <tr>\n",
       "      <th>0</th>\n",
       "      <td>37.500</td>\n",
       "      <td>0.000</td>\n",
       "      <td>0.000</td>\n",
       "      <td>0.000</td>\n",
       "      <td>100.000</td>\n",
       "    </tr>\n",
       "    <tr>\n",
       "      <th>1</th>\n",
       "      <td>19.000</td>\n",
       "      <td>0.000</td>\n",
       "      <td>0.000</td>\n",
       "      <td>0.000</td>\n",
       "      <td>100.000</td>\n",
       "    </tr>\n",
       "    <tr>\n",
       "      <th>2</th>\n",
       "      <td>9.500</td>\n",
       "      <td>0.000</td>\n",
       "      <td>0.000</td>\n",
       "      <td>0.000</td>\n",
       "      <td>100.000</td>\n",
       "    </tr>\n",
       "    <tr>\n",
       "      <th>3</th>\n",
       "      <td>4.750</td>\n",
       "      <td>15.200</td>\n",
       "      <td>3.046</td>\n",
       "      <td>3.046</td>\n",
       "      <td>96.954</td>\n",
       "    </tr>\n",
       "    <tr>\n",
       "      <th>4</th>\n",
       "      <td>2.360</td>\n",
       "      <td>73.500</td>\n",
       "      <td>14.729</td>\n",
       "      <td>17.776</td>\n",
       "      <td>82.224</td>\n",
       "    </tr>\n",
       "    <tr>\n",
       "      <th>5</th>\n",
       "      <td>1.180</td>\n",
       "      <td>110.000</td>\n",
       "      <td>22.044</td>\n",
       "      <td>39.820</td>\n",
       "      <td>60.180</td>\n",
       "    </tr>\n",
       "    <tr>\n",
       "      <th>6</th>\n",
       "      <td>0.600</td>\n",
       "      <td>140.400</td>\n",
       "      <td>28.136</td>\n",
       "      <td>67.956</td>\n",
       "      <td>32.044</td>\n",
       "    </tr>\n",
       "    <tr>\n",
       "      <th>7</th>\n",
       "      <td>0.300</td>\n",
       "      <td>102.100</td>\n",
       "      <td>20.461</td>\n",
       "      <td>88.417</td>\n",
       "      <td>11.583</td>\n",
       "    </tr>\n",
       "    <tr>\n",
       "      <th>8</th>\n",
       "      <td>0.150</td>\n",
       "      <td>41.000</td>\n",
       "      <td>8.216</td>\n",
       "      <td>96.633</td>\n",
       "      <td>3.367</td>\n",
       "    </tr>\n",
       "    <tr>\n",
       "      <th>9</th>\n",
       "      <td>0.075</td>\n",
       "      <td>6.800</td>\n",
       "      <td>1.363</td>\n",
       "      <td>97.996</td>\n",
       "      <td>2.004</td>\n",
       "    </tr>\n",
       "    <tr>\n",
       "      <th>10</th>\n",
       "      <td>0.000</td>\n",
       "      <td>10.000</td>\n",
       "      <td>2.004</td>\n",
       "      <td>100.000</td>\n",
       "      <td>0.000</td>\n",
       "    </tr>\n",
       "  </tbody>\n",
       "</table>\n",
       "</div>"
      ],
      "text/plain": [
       "    sieve_mm  mass_retained_g  pct_retained  cum_pct_retained  pct_passing\n",
       "0     37.500            0.000         0.000             0.000      100.000\n",
       "1     19.000            0.000         0.000             0.000      100.000\n",
       "2      9.500            0.000         0.000             0.000      100.000\n",
       "3      4.750           15.200         3.046             3.046       96.954\n",
       "4      2.360           73.500        14.729            17.776       82.224\n",
       "5      1.180          110.000        22.044            39.820       60.180\n",
       "6      0.600          140.400        28.136            67.956       32.044\n",
       "7      0.300          102.100        20.461            88.417       11.583\n",
       "8      0.150           41.000         8.216            96.633        3.367\n",
       "9      0.075            6.800         1.363            97.996        2.004\n",
       "10     0.000           10.000         2.004           100.000        0.000"
      ]
     },
     "execution_count": 20,
     "metadata": {},
     "output_type": "execute_result"
    }
   ],
   "source": [
    "\n",
    "# 📥 Input — (Edit here): example sieves and mass retained (g)\n",
    "sieves_mm        = [37.5, 19.0, 9.5, 4.75, 2.36, 1.18, 0.600, 0.300, 0.150, 0.075, 0.0]  # 0.0 = pan\n",
    "mass_retained_g  = [   0,    0,   0,  15.2,  73.5, 110.0, 140.4, 102.1,  41.0,   6.8,  10.0]\n",
    "\n",
    "# ▶ Calculate\n",
    "df = pd.DataFrame({\"sieve_mm\": sieves_mm, \"mass_retained_g\": mass_retained_g})\n",
    "total_mass = float(df[\"mass_retained_g\"].sum())\n",
    "df[\"pct_retained\"] = (df[\"mass_retained_g\"] / total_mass) * 100.0\n",
    "df[\"cum_pct_retained\"] = df[\"pct_retained\"].cumsum()\n",
    "df[\"pct_passing\"] = 100.0 - df[\"cum_pct_retained\"]\n",
    "\n",
    "s, ok = check_sum_100(df[\"pct_retained\"], tol=0.3)\n",
    "banner(\"C136 Table\")\n",
    "print(f\"Total mass = {total_mass:0.1f} g  |  Sum % retained = {s:0.2f}  |  within ±0.3? {ok}\")\n",
    "df\n"
   ]
  },
  {
   "cell_type": "code",
   "execution_count": 21,
   "id": "febaa6fb",
   "metadata": {},
   "outputs": [
    {
     "data": {
      "image/png": "[encoded data removed]",
      "text/plain": [
       "<Figure size 600x400 with 1 Axes>"
      ]
     },
     "metadata": {},
     "output_type": "display_data"
    }
   ],
   "source": [
    "\n",
    "# ▶ Plot (semi‑log x; do not change styles)\n",
    "plt.figure(figsize=(6,4))\n",
    "plt.semilogx(df[\"sieve_mm\"].replace(0.0, np.nan), df[\"pct_passing\"], marker=\"o\")  # omit pan from x-axis\n",
    "plt.gca().invert_xaxis()\n",
    "plt.xlabel(\"Sieve size (mm)\")\n",
    "plt.ylabel(\"% Passing\")\n",
    "plt.title(\"Gradation Curve (ASTM C136)\")\n",
    "plt.grid(True, which=\"both\")\n",
    "plt.show()\n"
   ]
  },
  {
   "cell_type": "code",
   "execution_count": 22,
   "id": "17a50b8c",
   "metadata": {},
   "outputs": [
    {
     "name": "stdout",
     "output_type": "stream",
     "text": [
      "======== Fineness Modulus ========\n",
      "FM: 0.966\n"
     ]
    }
   ],
   "source": [
    "\n",
    "# ▶ Optional: Fineness Modulus for fine aggregate\n",
    "# FM = sum of % retained on specified sieves / 100\n",
    "# Typical FM sieves (mm): 4.75, 2.36, 1.18, 0.600, 0.300, 0.150\n",
    "FM_SIEVES = {4.75, 2.36, 1.18, 0.600, 0.300, 0.150}\n",
    "fm = df[df[\"sieve_mm\"].isin(FM_SIEVES)][\"pct_retained\"].sum() / 100.0\n",
    "banner(\"Fineness Modulus\")\n",
    "print(\"FM:\", round_to(fm, 3))\n"
   ]
  },
  {
   "cell_type": "markdown",
   "id": "8b5bcab1",
   "metadata": {},
   "source": [
    "\n",
    "## T85/C127 — Specific Gravity & Absorption of Coarse Aggregate<a id='c127'></a>\n",
    "Bulk SG(SSD), Bulk SG(OD), Apparent SG, Absorption (%).\n"
   ]
  },
  {
   "cell_type": "code",
   "execution_count": 23,
   "id": "4a1d05dd",
   "metadata": {},
   "outputs": [
    {
     "name": "stdout",
     "output_type": "stream",
     "text": [
      "======== C127 Results ========\n",
      "Bulk SG (SSD): 2.576\n",
      "Bulk SG (OD):  2.522\n",
      "Apparent SG:   2.667\n",
      "Absorption %:  2.15\n"
     ]
    }
   ],
   "source": [
    "\n",
    "# 📥 Input — (Edit here)\n",
    "m_ssd_air_kg   = 2.615\n",
    "m_dry_kg       = 2.560\n",
    "m_submerged_kg = 1.600\n",
    "\n",
    "# ▶ Calculate\n",
    "bulk_ssd = safe_div(m_ssd_air_kg, (m_ssd_air_kg - m_submerged_kg))\n",
    "bulk_od  = safe_div(m_dry_kg,     (m_ssd_air_kg - m_submerged_kg))\n",
    "apparent = safe_div(m_dry_kg,     (m_dry_kg - m_submerged_kg))\n",
    "absorp   = ((m_ssd_air_kg - m_dry_kg) / m_dry_kg) * 100.0\n",
    "\n",
    "banner(\"C127 Results\")\n",
    "print(\"Bulk SG (SSD):\", round_to(bulk_ssd,3))\n",
    "print(\"Bulk SG (OD): \", round_to(bulk_od,3))\n",
    "print(\"Apparent SG:  \", round_to(apparent,3))\n",
    "print(\"Absorption %: \", round_to(absorp,2))\n"
   ]
  },
  {
   "cell_type": "markdown",
   "id": "88234ad3",
   "metadata": {},
   "source": [
    "\n",
    "## T84/C128 — Specific Gravity & Absorption of Fine Aggregate<a id='c128'></a>\n",
    "Bulk SG(SSD/OD), Apparent SG, Absorption (%) using pycnometer masses.\n"
   ]
  },
  {
   "cell_type": "code",
   "execution_count": 24,
   "id": "256997b7",
   "metadata": {},
   "outputs": [
    {
     "name": "stdout",
     "output_type": "stream",
     "text": [
      "======== C128 Results ========\n",
      "Equiv water mass (kg): -0.05\n",
      "Bulk SG (SSD): 0.912\n",
      "Bulk SG (OD):  0.877\n",
      "Apparent SG:   0.909\n",
      "Absorption %:  4.0\n"
     ]
    }
   ],
   "source": [
    "\n",
    "# 📥 Input — (Edit here)\n",
    "m_py_w_ssd_kg = 3.250  # pycnometer + water + SSD sample\n",
    "m_py_w_kg     = 2.800  # pycnometer + water only\n",
    "m_dry_kg      = 0.500  # oven-dry sample\n",
    "m_ssd_kg      = 0.520  # SSD sample mass\n",
    "\n",
    "# ▶ Calculate\n",
    "m_eq = (m_py_w_ssd_kg - m_dry_kg) - m_py_w_kg\n",
    "bulk_ssd = safe_div(m_ssd_kg, (m_ssd_kg - m_eq))\n",
    "bulk_od  = safe_div(m_dry_kg, (m_ssd_kg - m_eq))\n",
    "apparent = safe_div(m_dry_kg, (m_dry_kg - m_eq))\n",
    "absorp   = ((m_ssd_kg - m_dry_kg) / m_dry_kg) * 100.0\n",
    "\n",
    "banner(\"C128 Results\")\n",
    "print(\"Equiv water mass (kg):\", round_to(m_eq,4))\n",
    "print(\"Bulk SG (SSD):\", round_to(bulk_ssd,3))\n",
    "print(\"Bulk SG (OD): \", round_to(bulk_od,3))\n",
    "print(\"Apparent SG:  \", round_to(apparent,3))\n",
    "print(\"Absorption %: \", round_to(absorp,2))\n"
   ]
  },
  {
   "cell_type": "markdown",
   "id": "a462f52d",
   "metadata": {},
   "source": [
    "\n",
    "## T255/C566 — Total Evaporable Moisture Content of Aggregate (Drying)<a id='c566'></a>\n",
    "% moisture = ((m_wet − m_dry) / m_dry) × 100\n"
   ]
  },
  {
   "cell_type": "code",
   "execution_count": 25,
   "id": "ea89246c",
   "metadata": {},
   "outputs": [
    {
     "name": "stdout",
     "output_type": "stream",
     "text": [
      "======== C566 Moisture ========\n",
      "Moisture (%): 5.26\n"
     ]
    }
   ],
   "source": [
    "\n",
    "# 📥 Input — (Edit here)\n",
    "m_wet_kg = 5.000\n",
    "m_dry_kg = 4.750\n",
    "\n",
    "# ▶ Calculate\n",
    "moist_pct = ((m_wet_kg - m_dry_kg) / m_dry_kg) * 100.0\n",
    "banner(\"C566 Moisture\")\n",
    "print(\"Moisture (%):\", round_to(moist_pct,2))\n"
   ]
  },
  {
   "cell_type": "markdown",
   "id": "e30168e1",
   "metadata": {},
   "source": [
    "\n",
    "## T21/C40 — Organic Impurities in Fine Aggregates<a id='c40'></a>\n",
    "- **Qualitative / Color** comparison. No numeric calculation in the method.  \n",
    "- Record: reagent lot, time, temperature, color rating vs standard.\n"
   ]
  },
  {
   "cell_type": "code",
   "execution_count": 26,
   "id": "7d3f04a4",
   "metadata": {},
   "outputs": [
    {
     "name": "stdout",
     "output_type": "stream",
     "text": [
      "======== C40 Record ========\n",
      "Result: Lighter than standard / Darker than standard\n",
      "Reagent lot: NaOH soln lot #\n",
      "Time (min): 1440\n",
      "Temp (°C): 23\n",
      "Remarks: Sample acceptable by color? If darker, run follow-up chemical test per spec.\n"
     ]
    }
   ],
   "source": [
    "\n",
    "# 📥 Input — (Edit here)\n",
    "color_result   = \"Lighter than standard / Darker than standard\"\n",
    "reagent_lot    = \"NaOH soln lot #\"\n",
    "test_time_min  = 24*60\n",
    "temp_C         = 23\n",
    "remarks        = \"Sample acceptable by color? If darker, run follow-up chemical test per spec.\"\n",
    "\n",
    "# ▶ Record\n",
    "banner(\"C40 Record\")\n",
    "print(\"Result:\", color_result)\n",
    "print(\"Reagent lot:\", reagent_lot)\n",
    "print(\"Time (min):\", test_time_min)\n",
    "print(\"Temp (°C):\", temp_C)\n",
    "print(\"Remarks:\", remarks)\n"
   ]
  },
  {
   "cell_type": "code",
   "execution_count": null,
   "id": "39c883fa-e725-407e-a21c-0d1d3e3fe46b",
   "metadata": {},
   "outputs": [],
   "source": []
  }
 ],
 "metadata": {
  "kernelspec": {
   "display_name": "Python [conda env:base] *",
   "language": "python",
   "name": "conda-base-py"
  },
  "language_info": {
   "codemirror_mode": {
    "name": "ipython",
    "version": 3
   },
   "file_extension": ".py",
   "mimetype": "text/x-python",
   "name": "python",
   "nbconvert_exporter": "python",
   "pygments_lexer": "ipython3",
   "version": "3.12.7"
  }
 },
 "nbformat": 4,
 "nbformat_minor": 5
}
